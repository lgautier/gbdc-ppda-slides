{
 "cells": [
  {
   "cell_type": "markdown",
   "metadata": {},
   "source": [
    "<!-- label:sqlite -->\n",
    "Opening an sqlite database"
   ]
  },
  {
   "cell_type": "code",
   "execution_count": null,
   "metadata": {},
   "outputs": [],
   "source": [
    "import sqlite3\n",
    "dbfilename = \"/opt/data/finefoods.db\"\n",
    "dbcon = sqlite3.connect(dbfilename)"
   ]
  },
  {
   "cell_type": "markdown",
   "metadata": {},
   "source": [
    "<!-- label:sqlite_firstquery -->\n",
    "SQL query."
   ]
  },
  {
   "cell_type": "code",
   "execution_count": null,
   "metadata": {},
   "outputs": [],
   "source": [
    "cursor = dbcon.cursor()\n",
    "sql = \"\"\"\n",
    "SELECT reviewhelpful, count(*)\n",
    "FROM review\n",
    "WHERE reviewscore < 2\n",
    "GROUP BY reviewhelpful\n",
    "\"\"\"\n",
    "cursor.execute(sql)"
   ]
  },
  {
   "cell_type": "markdown",
   "metadata": {},
   "source": [
    "<!-- label:sqlite_firstresults -->\n",
    "Results can then be pulled from the database."
   ]
  },
  {
   "cell_type": "code",
   "execution_count": null,
   "metadata": {},
   "outputs": [],
   "source": [
    "from collections import Counter\n",
    "ct = Counter()\n",
    "for row_n, (score, count) in enumerate(cursor, 1):\n",
    "    ct[score] = count\n",
    "print(ct.most_common(n=3))"
   ]
  },
  {
   "cell_type": "markdown",
   "metadata": {},
   "source": [
    "<!-- label:sqlite_secondquery -->\n",
    "Some of the Python-side post-processing can be pushed\n",
    "back to the database"
   ]
  },
  {
   "cell_type": "code",
   "execution_count": null,
   "metadata": {},
   "outputs": [],
   "source": [
    "cursor = dbcon.cursor()\n",
    "sql = \"\"\"\n",
    "SELECT reviewhelpful, count(*) AS ct\n",
    "FROM review\n",
    "WHERE reviewscore < 2\n",
    "GROUP BY reviewhelpful\n",
    "ORDER BY ct DESC\n",
    "\"\"\"\n",
    "cursor.execute(sql)\n",
    "print(cursor.fetchmany(5))"
   ]
  },
  {
   "cell_type": "markdown",
   "metadata": {},
   "source": [
    "<!-- label:sqlite_complexquery -->"
   ]
  },
  {
   "cell_type": "code",
   "execution_count": null,
   "metadata": {},
   "outputs": [],
   "source": [
    "sql = \"\"\"\n",
    "select reviewhelpful, count(*)\n",
    "from (select T.reviewername\n",
    "      from (select reviewername, count(*) as reviewer_count\n",
    "            from review\n",
    "            group by reviewername) as T\n",
    "      where T.reviewer_count > 5) as U\n",
    "inner join review\n",
    "on U.reviewername = review.reviewername\n",
    "where reviewscore < 2\n",
    "group by reviewhelpful\n",
    "\"\"\"\n",
    "cursor.execute(sql)\n"
   ]
  },
  {
   "cell_type": "markdown",
   "metadata": {},
   "source": [
    "<!-- label:sqlalchemy_open -->\n",
    "Opening the same database using an ORM (SQLalchemy)."
   ]
  },
  {
   "cell_type": "code",
   "execution_count": null,
   "metadata": {},
   "outputs": [],
   "source": [
    "from sqlalchemy.ext.automap import automap_base\n",
    "from sqlalchemy.orm import Session\n",
    "from sqlalchemy import create_engine\n",
    "\n",
    "Base = automap_base()\n",
    "\n",
    "# engine, suppose it has two tables 'user' and 'address' set up\n",
    "engine = create_engine(\"sqlite:////opt/data/finefoods.db\")"
   ]
  },
  {
   "cell_type": "markdown",
   "metadata": {},
   "source": [
    "<!-- label:sqlalchemy_reflect -->\n",
    "Use reflection on the SQL side to create the objects from the database."
   ]
  },
  {
   "cell_type": "code",
   "execution_count": null,
   "metadata": {},
   "outputs": [],
   "source": [
    "Base.prepare(engine, reflect=True)\n",
    "review = Base.classes.review"
   ]
  },
  {
   "cell_type": "markdown",
   "metadata": {},
   "source": [
    "---\n",
    "\n",
    "<!-- label:sqlalchemy_query -->\n",
    "Make a query using SQLalchemy's methods."
   ]
  },
  {
   "cell_type": "code",
   "execution_count": null,
   "metadata": {},
   "outputs": [],
   "source": [
    "session = Session(engine)\n",
    "from sqlalchemy import func # SQL functions\n",
    "\n",
    "query = (session\n",
    "         .query(review.reviewhelpful,\n",
    "                func.count(review.reviewhelpful))\n",
    "         .filter(review.reviewscore < 2)\n",
    "         .group_by(review.reviewhelpful)\n",
    "         .order_by(func.count(review.reviewhelpful).desc()))\n",
    "\n",
    "res = query.all()\n",
    "res[:3]"
   ]
  },
  {
   "cell_type": "markdown",
   "metadata": {},
   "source": [
    "How were we doing before StackOverflow ?\n",
    "\n",
    "---\n",
    "\n",
    "<!-- label:sqlalchemy_sql -->\n",
    "Function composition is generating SQL code."
   ]
  },
  {
   "cell_type": "code",
   "execution_count": null,
   "metadata": {},
   "outputs": [],
   "source": [
    "from sqlalchemy.dialects import sqlite\n",
    "print(str(query.statement.compile(dialect=sqlite.dialect())))"
   ]
  },
  {
   "cell_type": "markdown",
   "metadata": {},
   "source": [
    "---\n",
    "\n",
    "<!-- label:dplyr_rpy2_string -->\n",
    "<!-- config:two-columns -->\n",
    "\n",
    "With dplyr, an SQL table is a data table."
   ]
  },
  {
   "cell_type": "code",
   "execution_count": null,
   "metadata": {},
   "outputs": [],
   "source": [
    "from rpy2.robjects import r\n",
    "\n",
    "r_code = \"\"\"\n",
    "suppressMessages(require(\"dplyr\"))\n",
    "dbfilename <- '\"\"\" + dbfilename + \"\"\"'\n",
    "datasrc <- src_sqlite(dbfilename)\n",
    "review_tbl <- tbl(datasrc, \"review\")\n",
    "\n",
    "res <- filter(review_tbl,\n",
    "              reviewscore < 2) %>%\n",
    "       count(reviewhelpful) %>%\n",
    "       arrange('desc(n)')\n",
    "\"\"\"\n",
    "\n",
    "res = r(r_code)\n",
    "print(res)"
   ]
  },
  {
   "cell_type": "markdown",
   "metadata": {},
   "source": [
    "---\n",
    "\n",
    "<table>\n",
    "<tr>\n",
    "  <td>We traded the knowledge of SQL for </td>\n",
    "  <td><strike>the</strike></td>\n",
    "  <td> knowledge of R.</td>\n",
    "</tr>\n",
    "<tr>\n",
    "  <td></td>\n",
    "  <td>a little</td>\n",
    "  <td></td>\n",
    "</tr>\n",
    "</table>\n",
    "\n",
    "---\n",
    "\n",
    "<!-- label:dplyr_table -->\n",
    "dplyr is not trying to map objects. It is focusing on databases\n",
    "as sources of tables."
   ]
  },
  {
   "cell_type": "code",
   "execution_count": null,
   "metadata": {},
   "outputs": [],
   "source": [
    "from rpy2.robjects.lib import dplyr\n",
    "\n",
    "\n",
    "datasrc  = dplyr.src_sqlite(dbfilename)\n",
    "review_tbl = datasrc.get_table(\"review\")"
   ]
  },
  {
   "cell_type": "markdown",
   "metadata": {},
   "source": [
    "<!-- label:dplyr_query -->\n",
    "The table can be queried using the dplyr interface."
   ]
  },
  {
   "cell_type": "code",
   "execution_count": null,
   "metadata": {},
   "outputs": [],
   "source": [
    "res =  (review_tbl\n",
    "        .filter('reviewscore < 2')\n",
    "        .count('reviewhelpful')\n",
    "        .arrange('desc(n)'))\n",
    "\n",
    "print(res)\n"
   ]
  },
  {
   "cell_type": "markdown",
   "metadata": {},
   "source": [
    "Strings are snippets of R code for dplyr.\n",
    "\n",
    "R can be considered a domain-specific language (DSL) in the Python code.\n",
    "\n",
    "---\n",
    "\n",
    "<!-- label:ggplot2_figure -->\n",
    "The R package ggplot2 can also be used."
   ]
  },
  {
   "cell_type": "code",
   "execution_count": null,
   "metadata": {},
   "outputs": [],
   "source": [
    "from rpy2.robjects import r, globalenv\n",
    "import rpy2.robjects.lib.ggplot2 as gg\n",
    "\n",
    "split_review = \\\n",
    "    'as.integer(sapply(strsplit(reviewhelpful, \"/\"), \"[\", %i))'\n",
    "\n",
    "p = (gg.ggplot((res.collect().\n",
    "                mutate(r1 = split_review % 1,\n",
    "                       r2 = split_review % 2))) +\n",
    "     gg.aes_string(x='r1+1', y='r2+1', size='n') +\n",
    "     gg.geom_point(alpha = 0.5) +\n",
    "     gg.scale_x_log10(\"review voted helpful\") +\n",
    "     gg.scale_y_log10(\"review\") +\n",
    "     gg.scale_size(trans=\"sqrt\"))"
   ]
  },
  {
   "cell_type": "markdown",
   "metadata": {},
   "source": [
    "<!-- label:ggplot2_plot -->\n",
    "<!-- config:split-output -->\n",
    "Sending the resulting figure to a jupyter notebook output."
   ]
  },
  {
   "cell_type": "code",
   "execution_count": null,
   "metadata": {},
   "outputs": [],
   "source": [
    "from rpy2.robjects.lib import grdevices\n",
    "\n",
    "with grdevices.render_to_bytesio(grdevices.png, \n",
    "                                 width=800,\n",
    "                                 height=600, \n",
    "                                 res=120) as b:\n",
    "    p.plot()\n",
    "\n",
    "from IPython.display import Image, display\n",
    "data = b.getvalue()\n",
    "display(Image(data=data, format='png', embed=True))"
   ]
  },
  {
   "cell_type": "markdown",
   "metadata": {},
   "source": [
    "---\n",
    "\n",
    "<!-- label:bokeh -->\n",
    "<!-- config:split-output -->"
   ]
  },
  {
   "cell_type": "code",
   "execution_count": null,
   "metadata": {
    "attributes": {
     "classes": [],
     "id": "bokeh_scatter"
    }
   },
   "outputs": [],
   "source": [
    "from bokeh.plotting import figure\n",
    "from bokeh.plotting import figure, show, output_notebook\n",
    "output_notebook()\n",
    "\n",
    "plot = figure()\n",
    "res =  (review_tbl\n",
    "        .filter('reviewscore < 2')\n",
    "        .count('reviewhelpful')\n",
    "        .collect())\n",
    "\n",
    "import math\n",
    "plot.scatter(list(int(x.split('/')[0]) \\\n",
    "                  for x in res.rx2('reviewhelpful')),\n",
    "             list(int(x.split('/')[1]) \\\n",
    "                  for x in res.rx2('reviewhelpful')),\n",
    "             radius=list(math.log10(x/100) for x in res.rx2('n')),\n",
    "             fill_alpha=.3)"
   ]
  },
  {
   "cell_type": "markdown",
   "metadata": {},
   "source": [
    "<!-- label:bokeh_show -->"
   ]
  },
  {
   "cell_type": "code",
   "execution_count": null,
   "metadata": {},
   "outputs": [],
   "source": [
    "show(plot)\n"
   ]
  },
  {
   "cell_type": "markdown",
   "metadata": {},
   "source": [
    "---\n",
    "\n",
    "<!-- label:spark_setup -->\n",
    "Spark can be started from regular Python code."
   ]
  },
  {
   "cell_type": "code",
   "execution_count": null,
   "metadata": {},
   "outputs": [],
   "source": [
    "import findspark\n",
    "findspark.init()\n",
    "\n",
    "import pyspark\n",
    "\n",
    "conf = pyspark.conf.SparkConf()\n",
    "(conf.setMaster('local[2]')\n",
    " .setAppName('ipython-notebook')\n",
    " .set(\"spark.executor.memory\", \"2g\"))\n",
    "\n",
    "sc = pyspark.SparkContext(conf=conf)"
   ]
  },
  {
   "cell_type": "markdown",
   "metadata": {},
   "source": [
    "<!-- label:spark_dataframe -->"
   ]
  },
  {
   "cell_type": "code",
   "execution_count": null,
   "metadata": {},
   "outputs": [],
   "source": [
    "from pyspark.sql import SQLContext, Row\n",
    "sqlcontext = SQLContext(sc)\n",
    "cursor.execute('select * from review limit 10000')\n",
    "review = \\\n",
    "    sqlcontext.createDataFrame(cursor,\n",
    "                               tuple(x[0] for x in cursor.description))\n",
    "review.registerTempTable(\"review\")"
   ]
  },
  {
   "cell_type": "markdown",
   "metadata": {},
   "source": [
    "---\n",
    "\n",
    "<!-- label:spark_query -->\n",
    "SQL can be used to query the data."
   ]
  },
  {
   "cell_type": "code",
   "execution_count": null,
   "metadata": {},
   "outputs": [],
   "source": [
    "sql = \"\"\"\n",
    "SELECT reviewhelpful, count(*) AS ct\n",
    "FROM review\n",
    "WHERE reviewscore < 2\n",
    "GROUP BY reviewhelpful\n",
    "ORDER BY ct DESC\n",
    "\"\"\"\n",
    "counts = sqlcontext.sql(sql)"
   ]
  },
  {
   "cell_type": "markdown",
   "metadata": {},
   "source": [
    "<!-- label:spark_query_collect -->\n",
    "The evaluation is only performed when the results are needed."
   ]
  },
  {
   "cell_type": "code",
   "execution_count": null,
   "metadata": {},
   "outputs": [],
   "source": [
    "res = counts.collect()\n",
    "res[:3]"
   ]
  },
  {
   "cell_type": "markdown",
   "metadata": {},
   "source": [
    "<!-- label:spark_mapreduce -->\n",
    "\n",
    "Spark is particularly comfortable with map-reduce tasks.\n",
    "The input data can be our table (stored in a RDBM).\n",
    "Here we count words used in review summaries:"
   ]
  },
  {
   "cell_type": "code",
   "execution_count": null,
   "metadata": {},
   "outputs": [],
   "source": [
    "names = (review\n",
    "         .rdd\n",
    "         .flatMap(lambda p: p.reviewsummary.split())\n",
    "         .map(lambda word: (word.lower(), 1))\n",
    "         .reduceByKey(lambda a, b: a+b))\n",
    "names.takeOrdered(10, key = lambda x: -x[1])"
   ]
  },
  {
   "cell_type": "markdown",
   "metadata": {},
   "source": [
    "---\n",
    "\n",
    "More complex tasks remain easily described. Here want to\n",
    "look at (count) the bigrams (pairs of consecutive words) used\n",
    "by each reviewer.\n",
    "\n",
    "<!-- label:spark_bigrams -->"
   ]
  },
  {
   "cell_type": "code",
   "execution_count": null,
   "metadata": {},
   "outputs": [],
   "source": [
    "from collections import Counter\n",
    "\n",
    "bad_tokens = set(('.', '!'))\n",
    "\n",
    "def bigrams(p):\n",
    "    key = p.reviewerid\n",
    "    tokens = tuple(x.lower() \\\n",
    "                   for x in p.reviewsummary.split() \\\n",
    "                   if x not in bad_tokens)\n",
    "    ct = Counter('%s %s' % (tokens[i], tokens[i+1]) \\\n",
    "                 for i in range(len(tokens)-1))\n",
    "    return ((key, k, v) for k, v in ct.items())"
   ]
  },
  {
   "cell_type": "markdown",
   "metadata": {},
   "source": [
    "<!-- label:spark_bigrams_run -->"
   ]
  },
  {
   "cell_type": "code",
   "execution_count": null,
   "metadata": {},
   "outputs": [],
   "source": [
    "names = (review\n",
    "         .rdd\n",
    "         .flatMap(bigrams))\n",
    "names.takeOrdered(10, key = lambda x: -x[2])\n"
   ]
  },
  {
   "cell_type": "markdown",
   "metadata": {},
   "source": [
    "Counting the overall use of word pairs (across all reviewers)\n",
    "is a trivial modification of the code:\n",
    "\n",
    "<!-- label:spark_bigrams_count -->"
   ]
  },
  {
   "cell_type": "code",
   "execution_count": null,
   "metadata": {},
   "outputs": [],
   "source": [
    "names = (review\n",
    "         .rdd\n",
    "         .flatMap(bigrams)\n",
    "         .map(lambda x: (x[1], x[2]))\n",
    "         .reduceByKey(lambda a,b: a+b))\n",
    "names.takeOrdered(15, key = lambda x: -x[1])"
   ]
  },
  {
   "cell_type": "markdown",
   "metadata": {},
   "source": [
    "---\n",
    "\n",
    "<!-- label:spark_sqlmapreduce -->\n",
    "\n",
    "We can also seamlessly use result table obtained from an SQL query\n",
    "to perform map/reduce tasks:"
   ]
  },
  {
   "cell_type": "code",
   "execution_count": null,
   "metadata": {},
   "outputs": [],
   "source": [
    "sql = \"\"\"\n",
    "SELECT *\n",
    "FROM review\n",
    "WHERE reviewscore < 2\n",
    "\"\"\"\n",
    "lowscore = sqlcontext.sql(sql)\n",
    "names = (lowscore\n",
    "         .rdd\n",
    "         .flatMap(bigrams)\n",
    "         .map(lambda x: (x[1], x[2]))\n",
    "         .reduceByKey(lambda a,b: a+b))\n",
    "names.takeOrdered(5, key = lambda x: -x[1])"
   ]
  },
  {
   "cell_type": "markdown",
   "metadata": {},
   "source": [
    "---\n",
    "\n",
    "<!-- label:spark_sqlmapreduceggplot -->"
   ]
  },
  {
   "cell_type": "code",
   "execution_count": null,
   "metadata": {},
   "outputs": [],
   "source": [
    "lst = names.takeOrdered(20, key = lambda x: -x[1])\n",
    "from rpy2.robjects.vectors import StrVector, IntVector\n",
    "dataf = dplyr.DataFrame({'word_pair': StrVector([x[0] for x in lst]),\n",
    "                         'count': IntVector([x[1] for x in lst])})\n",
    "p = (gg.ggplot(dataf.arrange('desc(count)')) +\n",
    "     gg.geom_bar(gg.aes_string(x='factor(word_pair, levels=word_pair)',\n",
    "                               y='count'),\n",
    "                 stat=\"identity\") +\n",
    "     gg.scale_x_discrete('word pair') +\n",
    "     gg.theme(**{'axis.text.x': gg.element_text(angle = 90, hjust = 1)}))\n",
    "\n",
    "with grdevices.render_to_bytesio(grdevices.png, \n",
    "                                 width=800,\n",
    "                                 height=600, \n",
    "                                 res=120) as b:\n",
    "    p.plot()\n",
    "display(Image(data=b.getvalue(), format='png', embed=True))\n"
   ]
  },
  {
   "cell_type": "code",
   "execution_count": null,
   "metadata": {},
   "outputs": [],
   "source": [
    "def make_ngram_func(n):\n",
    "    def uniq_ngrams(p):\n",
    "        key = p.reviewerid\n",
    "        tokens = tuple(x.lower() \\\n",
    "                       for x in p.reviewsummary.split() \\\n",
    "                       if x not in bad_tokens)\n",
    "        s = set(' '.join(tokens[j] for j in range(i, i+n)) \\\n",
    "                for i in range(len(tokens)-(n+1)))\n",
    "        return ((key, k, 1) for k in s)\n",
    "    return uniq_ngrams\n",
    "bigrams = make_ngram_func(2)"
   ]
  },
  {
   "cell_type": "markdown",
   "metadata": {},
   "source": [
    "```python\n",
    "from rpy2.robjects.vectors import StrVector, IntVector\n",
    "names = (review\n",
    "         .rdd\n",
    "         .flatMap(bigrams)\n",
    "         .map(lambda x: ((x[0], x[1]), x[2]))\n",
    "         .reduceByKey(lambda a,b: a+b) )\n",
    "lst = names.takeOrdered(20, key = lambda x: -x[1])\n",
    "dataf = dplyr.DataFrame({'ngram': StrVector([x[0][1] for x in lst]),\n",
    "                         'reviewer': StrVector([x[0][0] for x in lst]),\n",
    "                         'count': IntVector([x[1] for x in lst])})\n",
    "p = (gg.ggplot(dataf) +\n",
    "     gg.geom_bar(gg.aes_string(x='reorder(ngram, as.integer(reviewer))',\n",
    "                               y='count', fill='reviewer'),\n",
    "                 stat=\"identity\") +\n",
    "     gg.scale_x_discrete('ngram') +\n",
    "     gg.theme(**{'axis.text.x': gg.element_text(angle = 90, hjust = 1)}))\n",
    "\n",
    "with grdevices.render_to_bytesio(grdevices.png, \n",
    "                                 width=800,\n",
    "                                 height=600, \n",
    "                                 res=120) as b:\n",
    "    p.plot()\n",
    "display(Image(data=b.getvalue(), format='png', embed=True))\n",
    "```"
   ]
  }
 ],
 "metadata": {},
 "nbformat": 4,
 "nbformat_minor": 0
}
